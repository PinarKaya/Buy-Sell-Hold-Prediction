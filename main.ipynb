{
 "cells": [
  {
   "cell_type": "code",
   "execution_count": null,
   "id": "af4783a2-7053-4a28-a0d6-4892db07acd0",
   "metadata": {},
   "outputs": [],
   "source": [
    "from sklearn.model_selection import train_test_split\n",
    "import warnings\n",
    "import itertools\n",
    "from math import sqrt\n",
    "from datetime import datetime\n",
    "from numpy import concatenate\n",
    "import numpy as np\n",
    "import pandas as pd\n",
    "import math\n",
    "from sklearn.utils import shuffle\n",
    "import plotly.offline as py\n",
    "import plotly.graph_objs as go\n",
    "import seaborn as sns\n",
    "import matplotlib.pyplot as plt\n",
    "import warnings\n",
    "# ignore all warnings\n",
    "warnings.filterwarnings('ignore')\n"
   ]
  },
  {
   "cell_type": "code",
   "execution_count": null,
   "id": "748f20dc-2a8c-4d91-b23a-0d91317845db",
   "metadata": {},
   "outputs": [],
   "source": [
    "from sklearn.preprocessing import MinMaxScaler\n",
    "from sklearn.preprocessing import LabelEncoder\n",
    "from sklearn.metrics import mean_squared_error\n",
    "from keras.models import Sequential\n",
    "from keras.layers import Dense, Dropout, Activation\n",
    "from keras.layers import LSTM, Bidirectional, GRU\n",
    "%matplotlib inline\n",
    "plt.style.use('fivethirtyeight')"
   ]
  },
  {
   "cell_type": "markdown",
   "id": "ca2c5d04-532f-4e14-8d36-06e8cb7d0ee7",
   "metadata": {},
   "source": [
    "Yukarıda ki kod bloğunda gerekli  kütüphanelerin import işlemi gerçekleştirilmiştir."
   ]
  },
  {
   "cell_type": "markdown",
   "id": "d1d6ee48-cd12-4e5c-a728-1a8a17fb1d51",
   "metadata": {},
   "source": [
    "VERİ OKUMA İŞLEMİ"
   ]
  },
  {
   "cell_type": "markdown",
   "id": "3a88cdef-6918-4b3c-8385-ddf95eb81436",
   "metadata": {},
   "source": [
    "Daha sonrasında aynı dizinde bulunan GARAN.IS.csv Dosyasını veriseti olarak okuma işlemi yapılmıştır."
   ]
  },
  {
   "cell_type": "code",
   "execution_count": null,
   "id": "050a7a61-690b-411d-bd06-05496620aee9",
   "metadata": {},
   "outputs": [],
   "source": [
    "veri = pd.read_csv('GARAN.IS.csv')"
   ]
  },
  {
   "cell_type": "markdown",
   "id": "7349328d-4163-4576-a74a-55f904b8594b",
   "metadata": {},
   "source": [
    "Veriyi okuduktan sonra yazdırma işlemi yaparak veriseti kontrol edilmiştir."
   ]
  },
  {
   "cell_type": "code",
   "execution_count": null,
   "id": "8de9b1e3-a1f9-4008-9441-276c855d1147",
   "metadata": {},
   "outputs": [
    {
     "name": "stdout",
     "output_type": "stream",
     "text": [
      "              Open         High          Low        Close    Adj Close  \\\n",
      "count  5658.000000  5658.000000  5658.000000  5658.000000  5658.000000   \n",
      "mean      5.674597     5.746729     5.596316     5.666694     5.081750   \n",
      "std       3.524850     3.568545     3.488802     3.525098     3.389226   \n",
      "min       0.235586     0.235586     0.219614     0.227600     0.179830   \n",
      "25%       2.224513     2.248053     2.178075     2.210686     1.762003   \n",
      "50%       6.780000     6.890000     6.690000     6.780000     5.807718   \n",
      "75%       8.360000     8.450000     8.270000     8.360000     7.599318   \n",
      "max      16.420000    17.090000    15.400000    16.250000    16.250000   \n",
      "\n",
      "             Volume  \n",
      "count  5.658000e+03  \n",
      "mean   6.080622e+07  \n",
      "std    6.975801e+07  \n",
      "min    0.000000e+00  \n",
      "25%    2.014093e+07  \n",
      "50%    4.057217e+07  \n",
      "75%    7.611341e+07  \n",
      "max    9.936633e+08  \n"
     ]
    }
   ],
   "source": [
    "print(veri.describe())"
   ]
  },
  {
   "cell_type": "code",
   "execution_count": null,
   "id": "4071d614-4429-4d02-beff-f1d49a0bd732",
   "metadata": {},
   "outputs": [
    {
     "data": {
      "text/html": [
       "<div>\n",
       "<style scoped>\n",
       "    .dataframe tbody tr th:only-of-type {\n",
       "        vertical-align: middle;\n",
       "    }\n",
       "\n",
       "    .dataframe tbody tr th {\n",
       "        vertical-align: top;\n",
       "    }\n",
       "\n",
       "    .dataframe thead th {\n",
       "        text-align: right;\n",
       "    }\n",
       "</style>\n",
       "<table border=\"1\" class=\"dataframe\">\n",
       "  <thead>\n",
       "    <tr style=\"text-align: right;\">\n",
       "      <th></th>\n",
       "      <th>Date</th>\n",
       "      <th>Open</th>\n",
       "      <th>High</th>\n",
       "      <th>Low</th>\n",
       "      <th>Close</th>\n",
       "      <th>Adj Close</th>\n",
       "      <th>Volume</th>\n",
       "    </tr>\n",
       "  </thead>\n",
       "  <tbody>\n",
       "    <tr>\n",
       "      <th>0</th>\n",
       "      <td>2000-05-10</td>\n",
       "      <td>0.726723</td>\n",
       "      <td>0.726723</td>\n",
       "      <td>0.702765</td>\n",
       "      <td>0.710751</td>\n",
       "      <td>0.561573</td>\n",
       "      <td>17957749.0</td>\n",
       "    </tr>\n",
       "    <tr>\n",
       "      <th>1</th>\n",
       "      <td>2000-05-11</td>\n",
       "      <td>0.694779</td>\n",
       "      <td>0.694779</td>\n",
       "      <td>0.662835</td>\n",
       "      <td>0.670821</td>\n",
       "      <td>0.530024</td>\n",
       "      <td>23421861.0</td>\n",
       "    </tr>\n",
       "    <tr>\n",
       "      <th>2</th>\n",
       "      <td>2000-05-12</td>\n",
       "      <td>0.718737</td>\n",
       "      <td>0.718737</td>\n",
       "      <td>0.678807</td>\n",
       "      <td>0.686793</td>\n",
       "      <td>0.542644</td>\n",
       "      <td>27451246.0</td>\n",
       "    </tr>\n",
       "    <tr>\n",
       "      <th>3</th>\n",
       "      <td>2000-05-15</td>\n",
       "      <td>0.678807</td>\n",
       "      <td>0.678807</td>\n",
       "      <td>0.662835</td>\n",
       "      <td>0.670821</td>\n",
       "      <td>0.530024</td>\n",
       "      <td>5299547.0</td>\n",
       "    </tr>\n",
       "    <tr>\n",
       "      <th>4</th>\n",
       "      <td>2000-05-16</td>\n",
       "      <td>0.678807</td>\n",
       "      <td>0.678807</td>\n",
       "      <td>0.662835</td>\n",
       "      <td>0.670821</td>\n",
       "      <td>0.530024</td>\n",
       "      <td>6817297.0</td>\n",
       "    </tr>\n",
       "    <tr>\n",
       "      <th>5</th>\n",
       "      <td>2000-05-17</td>\n",
       "      <td>0.678807</td>\n",
       "      <td>0.678807</td>\n",
       "      <td>0.646863</td>\n",
       "      <td>0.654849</td>\n",
       "      <td>0.517404</td>\n",
       "      <td>14765721.0</td>\n",
       "    </tr>\n",
       "    <tr>\n",
       "      <th>6</th>\n",
       "      <td>2000-05-18</td>\n",
       "      <td>0.638877</td>\n",
       "      <td>0.638877</td>\n",
       "      <td>0.590961</td>\n",
       "      <td>0.614919</td>\n",
       "      <td>0.485855</td>\n",
       "      <td>32139164.0</td>\n",
       "    </tr>\n",
       "    <tr>\n",
       "      <th>7</th>\n",
       "      <td>2000-05-19</td>\n",
       "      <td>NaN</td>\n",
       "      <td>NaN</td>\n",
       "      <td>NaN</td>\n",
       "      <td>NaN</td>\n",
       "      <td>NaN</td>\n",
       "      <td>NaN</td>\n",
       "    </tr>\n",
       "    <tr>\n",
       "      <th>8</th>\n",
       "      <td>2000-05-22</td>\n",
       "      <td>0.598947</td>\n",
       "      <td>0.598947</td>\n",
       "      <td>0.574990</td>\n",
       "      <td>0.598947</td>\n",
       "      <td>0.473236</td>\n",
       "      <td>18474658.0</td>\n",
       "    </tr>\n",
       "    <tr>\n",
       "      <th>9</th>\n",
       "      <td>2000-05-23</td>\n",
       "      <td>0.598947</td>\n",
       "      <td>0.598947</td>\n",
       "      <td>0.574990</td>\n",
       "      <td>0.598947</td>\n",
       "      <td>0.473236</td>\n",
       "      <td>18474658.0</td>\n",
       "    </tr>\n",
       "    <tr>\n",
       "      <th>10</th>\n",
       "      <td>2000-05-24</td>\n",
       "      <td>NaN</td>\n",
       "      <td>NaN</td>\n",
       "      <td>NaN</td>\n",
       "      <td>NaN</td>\n",
       "      <td>NaN</td>\n",
       "      <td>NaN</td>\n",
       "    </tr>\n",
       "    <tr>\n",
       "      <th>11</th>\n",
       "      <td>2000-05-25</td>\n",
       "      <td>NaN</td>\n",
       "      <td>NaN</td>\n",
       "      <td>NaN</td>\n",
       "      <td>NaN</td>\n",
       "      <td>NaN</td>\n",
       "      <td>NaN</td>\n",
       "    </tr>\n",
       "    <tr>\n",
       "      <th>12</th>\n",
       "      <td>2000-05-26</td>\n",
       "      <td>0.630891</td>\n",
       "      <td>0.630891</td>\n",
       "      <td>0.614919</td>\n",
       "      <td>0.622905</td>\n",
       "      <td>0.492165</td>\n",
       "      <td>4835866.0</td>\n",
       "    </tr>\n",
       "    <tr>\n",
       "      <th>13</th>\n",
       "      <td>2000-05-29</td>\n",
       "      <td>NaN</td>\n",
       "      <td>NaN</td>\n",
       "      <td>NaN</td>\n",
       "      <td>NaN</td>\n",
       "      <td>NaN</td>\n",
       "      <td>NaN</td>\n",
       "    </tr>\n",
       "    <tr>\n",
       "      <th>14</th>\n",
       "      <td>2000-05-30</td>\n",
       "      <td>NaN</td>\n",
       "      <td>NaN</td>\n",
       "      <td>NaN</td>\n",
       "      <td>NaN</td>\n",
       "      <td>NaN</td>\n",
       "      <td>NaN</td>\n",
       "    </tr>\n",
       "    <tr>\n",
       "      <th>15</th>\n",
       "      <td>2000-05-31</td>\n",
       "      <td>NaN</td>\n",
       "      <td>NaN</td>\n",
       "      <td>NaN</td>\n",
       "      <td>NaN</td>\n",
       "      <td>NaN</td>\n",
       "      <td>NaN</td>\n",
       "    </tr>\n",
       "    <tr>\n",
       "      <th>16</th>\n",
       "      <td>2000-06-01</td>\n",
       "      <td>NaN</td>\n",
       "      <td>NaN</td>\n",
       "      <td>NaN</td>\n",
       "      <td>NaN</td>\n",
       "      <td>NaN</td>\n",
       "      <td>NaN</td>\n",
       "    </tr>\n",
       "    <tr>\n",
       "      <th>17</th>\n",
       "      <td>2000-06-02</td>\n",
       "      <td>0.678807</td>\n",
       "      <td>0.678807</td>\n",
       "      <td>0.622905</td>\n",
       "      <td>0.622905</td>\n",
       "      <td>0.492165</td>\n",
       "      <td>27882433.0</td>\n",
       "    </tr>\n",
       "    <tr>\n",
       "      <th>18</th>\n",
       "      <td>2000-06-05</td>\n",
       "      <td>NaN</td>\n",
       "      <td>NaN</td>\n",
       "      <td>NaN</td>\n",
       "      <td>NaN</td>\n",
       "      <td>NaN</td>\n",
       "      <td>NaN</td>\n",
       "    </tr>\n",
       "    <tr>\n",
       "      <th>19</th>\n",
       "      <td>2000-06-06</td>\n",
       "      <td>0.670821</td>\n",
       "      <td>0.670821</td>\n",
       "      <td>0.646863</td>\n",
       "      <td>0.646863</td>\n",
       "      <td>0.511095</td>\n",
       "      <td>10197470.0</td>\n",
       "    </tr>\n",
       "  </tbody>\n",
       "</table>\n",
       "</div>"
      ],
      "text/plain": [
       "          Date      Open      High       Low     Close  Adj Close      Volume\n",
       "0   2000-05-10  0.726723  0.726723  0.702765  0.710751   0.561573  17957749.0\n",
       "1   2000-05-11  0.694779  0.694779  0.662835  0.670821   0.530024  23421861.0\n",
       "2   2000-05-12  0.718737  0.718737  0.678807  0.686793   0.542644  27451246.0\n",
       "3   2000-05-15  0.678807  0.678807  0.662835  0.670821   0.530024   5299547.0\n",
       "4   2000-05-16  0.678807  0.678807  0.662835  0.670821   0.530024   6817297.0\n",
       "5   2000-05-17  0.678807  0.678807  0.646863  0.654849   0.517404  14765721.0\n",
       "6   2000-05-18  0.638877  0.638877  0.590961  0.614919   0.485855  32139164.0\n",
       "7   2000-05-19       NaN       NaN       NaN       NaN        NaN         NaN\n",
       "8   2000-05-22  0.598947  0.598947  0.574990  0.598947   0.473236  18474658.0\n",
       "9   2000-05-23  0.598947  0.598947  0.574990  0.598947   0.473236  18474658.0\n",
       "10  2000-05-24       NaN       NaN       NaN       NaN        NaN         NaN\n",
       "11  2000-05-25       NaN       NaN       NaN       NaN        NaN         NaN\n",
       "12  2000-05-26  0.630891  0.630891  0.614919  0.622905   0.492165   4835866.0\n",
       "13  2000-05-29       NaN       NaN       NaN       NaN        NaN         NaN\n",
       "14  2000-05-30       NaN       NaN       NaN       NaN        NaN         NaN\n",
       "15  2000-05-31       NaN       NaN       NaN       NaN        NaN         NaN\n",
       "16  2000-06-01       NaN       NaN       NaN       NaN        NaN         NaN\n",
       "17  2000-06-02  0.678807  0.678807  0.622905  0.622905   0.492165  27882433.0\n",
       "18  2000-06-05       NaN       NaN       NaN       NaN        NaN         NaN\n",
       "19  2000-06-06  0.670821  0.670821  0.646863  0.646863   0.511095  10197470.0"
      ]
     },
     "execution_count": 5,
     "metadata": {},
     "output_type": "execute_result"
    }
   ],
   "source": [
    "veri.head(20)"
   ]
  },
  {
   "cell_type": "markdown",
   "id": "341775e8-990e-4e84-993e-6828cfeb6741",
   "metadata": {},
   "source": [
    "Veri yazdırma işleminden sonra verilerdeki satır sayısına bakılır. Satır ve sütun bilgileri alındıktan sonra eksik verileri temizleme işlemşne geçilecektir."
   ]
  },
  {
   "cell_type": "code",
   "execution_count": 122,
   "id": "7750c2bc-1192-4434-a79d-c8efeda0ca55",
   "metadata": {},
   "outputs": [
    {
     "data": {
      "text/html": [
       "<div>\n",
       "<style scoped>\n",
       "    .dataframe tbody tr th:only-of-type {\n",
       "        vertical-align: middle;\n",
       "    }\n",
       "\n",
       "    .dataframe tbody tr th {\n",
       "        vertical-align: top;\n",
       "    }\n",
       "\n",
       "    .dataframe thead th {\n",
       "        text-align: right;\n",
       "    }\n",
       "</style>\n",
       "<table border=\"1\" class=\"dataframe\">\n",
       "  <thead>\n",
       "    <tr style=\"text-align: right;\">\n",
       "      <th></th>\n",
       "      <th>Open</th>\n",
       "      <th>High</th>\n",
       "      <th>Low</th>\n",
       "      <th>Close</th>\n",
       "      <th>Adj Close</th>\n",
       "      <th>Volume</th>\n",
       "    </tr>\n",
       "  </thead>\n",
       "  <tbody>\n",
       "    <tr>\n",
       "      <th>count</th>\n",
       "      <td>5658.000000</td>\n",
       "      <td>5658.000000</td>\n",
       "      <td>5658.000000</td>\n",
       "      <td>5658.000000</td>\n",
       "      <td>5658.000000</td>\n",
       "      <td>5.658000e+03</td>\n",
       "    </tr>\n",
       "    <tr>\n",
       "      <th>mean</th>\n",
       "      <td>5.674597</td>\n",
       "      <td>5.746729</td>\n",
       "      <td>5.596316</td>\n",
       "      <td>5.666694</td>\n",
       "      <td>5.081750</td>\n",
       "      <td>6.080622e+07</td>\n",
       "    </tr>\n",
       "    <tr>\n",
       "      <th>std</th>\n",
       "      <td>3.524850</td>\n",
       "      <td>3.568545</td>\n",
       "      <td>3.488802</td>\n",
       "      <td>3.525098</td>\n",
       "      <td>3.389226</td>\n",
       "      <td>6.975801e+07</td>\n",
       "    </tr>\n",
       "    <tr>\n",
       "      <th>min</th>\n",
       "      <td>0.235586</td>\n",
       "      <td>0.235586</td>\n",
       "      <td>0.219614</td>\n",
       "      <td>0.227600</td>\n",
       "      <td>0.179830</td>\n",
       "      <td>0.000000e+00</td>\n",
       "    </tr>\n",
       "    <tr>\n",
       "      <th>25%</th>\n",
       "      <td>2.224513</td>\n",
       "      <td>2.248053</td>\n",
       "      <td>2.178075</td>\n",
       "      <td>2.210686</td>\n",
       "      <td>1.762003</td>\n",
       "      <td>2.014093e+07</td>\n",
       "    </tr>\n",
       "    <tr>\n",
       "      <th>50%</th>\n",
       "      <td>6.780000</td>\n",
       "      <td>6.890000</td>\n",
       "      <td>6.690000</td>\n",
       "      <td>6.780000</td>\n",
       "      <td>5.807718</td>\n",
       "      <td>4.057217e+07</td>\n",
       "    </tr>\n",
       "    <tr>\n",
       "      <th>75%</th>\n",
       "      <td>8.360000</td>\n",
       "      <td>8.450000</td>\n",
       "      <td>8.270000</td>\n",
       "      <td>8.360000</td>\n",
       "      <td>7.599318</td>\n",
       "      <td>7.611341e+07</td>\n",
       "    </tr>\n",
       "    <tr>\n",
       "      <th>max</th>\n",
       "      <td>16.420000</td>\n",
       "      <td>17.090000</td>\n",
       "      <td>15.400000</td>\n",
       "      <td>16.250000</td>\n",
       "      <td>16.250000</td>\n",
       "      <td>9.936633e+08</td>\n",
       "    </tr>\n",
       "  </tbody>\n",
       "</table>\n",
       "</div>"
      ],
      "text/plain": [
       "              Open         High          Low        Close    Adj Close  \\\n",
       "count  5658.000000  5658.000000  5658.000000  5658.000000  5658.000000   \n",
       "mean      5.674597     5.746729     5.596316     5.666694     5.081750   \n",
       "std       3.524850     3.568545     3.488802     3.525098     3.389226   \n",
       "min       0.235586     0.235586     0.219614     0.227600     0.179830   \n",
       "25%       2.224513     2.248053     2.178075     2.210686     1.762003   \n",
       "50%       6.780000     6.890000     6.690000     6.780000     5.807718   \n",
       "75%       8.360000     8.450000     8.270000     8.360000     7.599318   \n",
       "max      16.420000    17.090000    15.400000    16.250000    16.250000   \n",
       "\n",
       "             Volume  \n",
       "count  5.658000e+03  \n",
       "mean   6.080622e+07  \n",
       "std    6.975801e+07  \n",
       "min    0.000000e+00  \n",
       "25%    2.014093e+07  \n",
       "50%    4.057217e+07  \n",
       "75%    7.611341e+07  \n",
       "max    9.936633e+08  "
      ]
     },
     "execution_count": 122,
     "metadata": {},
     "output_type": "execute_result"
    }
   ],
   "source": [
    "veri.count()\n",
    "veri.describe()"
   ]
  },
  {
   "cell_type": "code",
   "execution_count": null,
   "id": "bb5309d6-e76c-4097-8c22-81cd952e29be",
   "metadata": {},
   "outputs": [
    {
     "data": {
      "text/plain": [
       "<bound method DataFrame.info of             Date       Open       High        Low      Close  Adj Close  \\\n",
       "0     2000-05-10   0.726723   0.726723   0.702765   0.710751   0.561573   \n",
       "1     2000-05-11   0.694779   0.694779   0.662835   0.670821   0.530024   \n",
       "2     2000-05-12   0.718737   0.718737   0.678807   0.686793   0.542644   \n",
       "3     2000-05-15   0.678807   0.678807   0.662835   0.670821   0.530024   \n",
       "4     2000-05-16   0.678807   0.678807   0.662835   0.670821   0.530024   \n",
       "...          ...        ...        ...        ...        ...        ...   \n",
       "5689  2022-05-16  14.980000  14.990000  14.950000  14.970000  14.970000   \n",
       "5690  2022-05-17  14.880000  14.990000  14.730000  14.970000  14.970000   \n",
       "5691  2022-05-18  14.950000  16.400000  14.890000  15.650000  15.650000   \n",
       "5692  2022-05-20  15.550000  17.090000  15.400000  16.250000  16.250000   \n",
       "5693  2022-05-23  16.420000  16.600000  15.130000  15.170000  15.170000   \n",
       "\n",
       "           Volume  \n",
       "0      17957749.0  \n",
       "1      23421861.0  \n",
       "2      27451246.0  \n",
       "3       5299547.0  \n",
       "4       6817297.0  \n",
       "...           ...  \n",
       "5689  146325141.0  \n",
       "5690   67928310.0  \n",
       "5691  175313752.0  \n",
       "5692  246624606.0  \n",
       "5693  269946351.0  \n",
       "\n",
       "[5694 rows x 7 columns]>"
      ]
     },
     "execution_count": 7,
     "metadata": {},
     "output_type": "execute_result"
    }
   ],
   "source": [
    "veri.info"
   ]
  },
  {
   "cell_type": "code",
   "execution_count": null,
   "id": "60a1ba70-387b-4350-a1a9-7e8f77c31831",
   "metadata": {},
   "outputs": [
    {
     "data": {
      "text/plain": [
       "(5694, 7)"
      ]
     },
     "execution_count": 8,
     "metadata": {},
     "output_type": "execute_result"
    }
   ],
   "source": [
    "veri.shape"
   ]
  },
  {
   "cell_type": "markdown",
   "id": "d4b57bb5-4d9d-45ed-8688-dcf1625efe1d",
   "metadata": {},
   "source": [
    "EKSİK VERİ KONTROLÜ"
   ]
  },
  {
   "cell_type": "markdown",
   "id": "3f0a4e45-5ace-4f1c-87c8-e8849b01102a",
   "metadata": {},
   "source": [
    "Verisetindeki eksik verilerin sayısına bakılıp bu veriler silinerek işlemlere devam edilir."
   ]
  },
  {
   "cell_type": "code",
   "execution_count": null,
   "id": "fd6d55fb-933a-4513-8563-85cfd7dbcab4",
   "metadata": {},
   "outputs": [
    {
     "name": "stdout",
     "output_type": "stream",
     "text": [
      "Date          0\n",
      "Open         36\n",
      "High         36\n",
      "Low          36\n",
      "Close        36\n",
      "Adj Close    36\n",
      "Volume       36\n",
      "dtype: int64\n"
     ]
    }
   ],
   "source": [
    "print(veri.isnull().sum())"
   ]
  },
  {
   "cell_type": "code",
   "execution_count": null,
   "id": "e178e2c9-e541-4bf5-85de-cdd181936892",
   "metadata": {},
   "outputs": [],
   "source": [
    "data=veri.dropna()"
   ]
  },
  {
   "cell_type": "markdown",
   "id": "283f50cc-ffce-4b50-9486-f3d856b56138",
   "metadata": {},
   "source": [
    "Eksik verileri sildikten sonra kontrol işlemi yapılmıştır. Hiç bir sütunda eksik veri yoktur. İşlemlere devam edilir."
   ]
  },
  {
   "cell_type": "code",
   "execution_count": null,
   "id": "e5c75e45-6a6a-4527-be1d-c2fffd36a618",
   "metadata": {},
   "outputs": [
    {
     "name": "stdout",
     "output_type": "stream",
     "text": [
      "Date         0\n",
      "Open         0\n",
      "High         0\n",
      "Low          0\n",
      "Close        0\n",
      "Adj Close    0\n",
      "Volume       0\n",
      "dtype: int64\n"
     ]
    }
   ],
   "source": [
    "print(data.isnull().sum())"
   ]
  },
  {
   "cell_type": "code",
   "execution_count": 123,
   "id": "4c6627fc-7bbd-40c2-a178-33b1a2c5d719",
   "metadata": {},
   "outputs": [
    {
     "data": {
      "text/html": [
       "<div>\n",
       "<style scoped>\n",
       "    .dataframe tbody tr th:only-of-type {\n",
       "        vertical-align: middle;\n",
       "    }\n",
       "\n",
       "    .dataframe tbody tr th {\n",
       "        vertical-align: top;\n",
       "    }\n",
       "\n",
       "    .dataframe thead th {\n",
       "        text-align: right;\n",
       "    }\n",
       "</style>\n",
       "<table border=\"1\" class=\"dataframe\">\n",
       "  <thead>\n",
       "    <tr style=\"text-align: right;\">\n",
       "      <th></th>\n",
       "      <th>Date</th>\n",
       "      <th>Open</th>\n",
       "      <th>High</th>\n",
       "      <th>Low</th>\n",
       "      <th>Close</th>\n",
       "      <th>Adj Close</th>\n",
       "      <th>Volume</th>\n",
       "      <th>month</th>\n",
       "      <th>etiket</th>\n",
       "    </tr>\n",
       "  </thead>\n",
       "  <tbody>\n",
       "    <tr>\n",
       "      <th>0</th>\n",
       "      <td>2000-05-10</td>\n",
       "      <td>0.726723</td>\n",
       "      <td>0.726723</td>\n",
       "      <td>0.702765</td>\n",
       "      <td>0.710751</td>\n",
       "      <td>0.561573</td>\n",
       "      <td>17957749.0</td>\n",
       "      <td>May</td>\n",
       "      <td>0</td>\n",
       "    </tr>\n",
       "    <tr>\n",
       "      <th>1</th>\n",
       "      <td>2000-05-11</td>\n",
       "      <td>0.694779</td>\n",
       "      <td>0.694779</td>\n",
       "      <td>0.662835</td>\n",
       "      <td>0.670821</td>\n",
       "      <td>0.530024</td>\n",
       "      <td>23421861.0</td>\n",
       "      <td>May</td>\n",
       "      <td>0</td>\n",
       "    </tr>\n",
       "    <tr>\n",
       "      <th>2</th>\n",
       "      <td>2000-05-12</td>\n",
       "      <td>0.718737</td>\n",
       "      <td>0.718737</td>\n",
       "      <td>0.678807</td>\n",
       "      <td>0.686793</td>\n",
       "      <td>0.542644</td>\n",
       "      <td>27451246.0</td>\n",
       "      <td>May</td>\n",
       "      <td>0</td>\n",
       "    </tr>\n",
       "    <tr>\n",
       "      <th>3</th>\n",
       "      <td>2000-05-15</td>\n",
       "      <td>0.678807</td>\n",
       "      <td>0.678807</td>\n",
       "      <td>0.662835</td>\n",
       "      <td>0.670821</td>\n",
       "      <td>0.530024</td>\n",
       "      <td>5299547.0</td>\n",
       "      <td>May</td>\n",
       "      <td>0</td>\n",
       "    </tr>\n",
       "    <tr>\n",
       "      <th>4</th>\n",
       "      <td>2000-05-16</td>\n",
       "      <td>0.678807</td>\n",
       "      <td>0.678807</td>\n",
       "      <td>0.662835</td>\n",
       "      <td>0.670821</td>\n",
       "      <td>0.530024</td>\n",
       "      <td>6817297.0</td>\n",
       "      <td>May</td>\n",
       "      <td>0</td>\n",
       "    </tr>\n",
       "    <tr>\n",
       "      <th>5</th>\n",
       "      <td>2000-05-17</td>\n",
       "      <td>0.678807</td>\n",
       "      <td>0.678807</td>\n",
       "      <td>0.646863</td>\n",
       "      <td>0.654849</td>\n",
       "      <td>0.517404</td>\n",
       "      <td>14765721.0</td>\n",
       "      <td>May</td>\n",
       "      <td>0</td>\n",
       "    </tr>\n",
       "    <tr>\n",
       "      <th>6</th>\n",
       "      <td>2000-05-18</td>\n",
       "      <td>0.638877</td>\n",
       "      <td>0.638877</td>\n",
       "      <td>0.590961</td>\n",
       "      <td>0.614919</td>\n",
       "      <td>0.485855</td>\n",
       "      <td>32139164.0</td>\n",
       "      <td>May</td>\n",
       "      <td>0</td>\n",
       "    </tr>\n",
       "    <tr>\n",
       "      <th>8</th>\n",
       "      <td>2000-05-22</td>\n",
       "      <td>0.598947</td>\n",
       "      <td>0.598947</td>\n",
       "      <td>0.574990</td>\n",
       "      <td>0.598947</td>\n",
       "      <td>0.473236</td>\n",
       "      <td>18474658.0</td>\n",
       "      <td>May</td>\n",
       "      <td>0</td>\n",
       "    </tr>\n",
       "    <tr>\n",
       "      <th>9</th>\n",
       "      <td>2000-05-23</td>\n",
       "      <td>0.598947</td>\n",
       "      <td>0.598947</td>\n",
       "      <td>0.574990</td>\n",
       "      <td>0.598947</td>\n",
       "      <td>0.473236</td>\n",
       "      <td>18474658.0</td>\n",
       "      <td>May</td>\n",
       "      <td>0</td>\n",
       "    </tr>\n",
       "    <tr>\n",
       "      <th>12</th>\n",
       "      <td>2000-05-26</td>\n",
       "      <td>0.630891</td>\n",
       "      <td>0.630891</td>\n",
       "      <td>0.614919</td>\n",
       "      <td>0.622905</td>\n",
       "      <td>0.492165</td>\n",
       "      <td>4835866.0</td>\n",
       "      <td>May</td>\n",
       "      <td>0</td>\n",
       "    </tr>\n",
       "    <tr>\n",
       "      <th>17</th>\n",
       "      <td>2000-06-02</td>\n",
       "      <td>0.678807</td>\n",
       "      <td>0.678807</td>\n",
       "      <td>0.622905</td>\n",
       "      <td>0.622905</td>\n",
       "      <td>0.492165</td>\n",
       "      <td>27882433.0</td>\n",
       "      <td>June</td>\n",
       "      <td>0</td>\n",
       "    </tr>\n",
       "    <tr>\n",
       "      <th>19</th>\n",
       "      <td>2000-06-06</td>\n",
       "      <td>0.670821</td>\n",
       "      <td>0.670821</td>\n",
       "      <td>0.646863</td>\n",
       "      <td>0.646863</td>\n",
       "      <td>0.511095</td>\n",
       "      <td>10197470.0</td>\n",
       "      <td>June</td>\n",
       "      <td>0</td>\n",
       "    </tr>\n",
       "    <tr>\n",
       "      <th>22</th>\n",
       "      <td>2000-06-09</td>\n",
       "      <td>0.686793</td>\n",
       "      <td>0.686793</td>\n",
       "      <td>0.670821</td>\n",
       "      <td>0.678807</td>\n",
       "      <td>0.536334</td>\n",
       "      <td>7104982.0</td>\n",
       "      <td>June</td>\n",
       "      <td>0</td>\n",
       "    </tr>\n",
       "    <tr>\n",
       "      <th>23</th>\n",
       "      <td>2000-06-12</td>\n",
       "      <td>0.670821</td>\n",
       "      <td>0.670821</td>\n",
       "      <td>0.654849</td>\n",
       "      <td>0.662835</td>\n",
       "      <td>0.523714</td>\n",
       "      <td>5250593.0</td>\n",
       "      <td>June</td>\n",
       "      <td>2</td>\n",
       "    </tr>\n",
       "    <tr>\n",
       "      <th>24</th>\n",
       "      <td>2000-06-13</td>\n",
       "      <td>0.630891</td>\n",
       "      <td>0.630891</td>\n",
       "      <td>0.590961</td>\n",
       "      <td>0.614919</td>\n",
       "      <td>0.485855</td>\n",
       "      <td>21419544.0</td>\n",
       "      <td>June</td>\n",
       "      <td>0</td>\n",
       "    </tr>\n",
       "    <tr>\n",
       "      <th>25</th>\n",
       "      <td>2000-06-14</td>\n",
       "      <td>0.630891</td>\n",
       "      <td>0.630891</td>\n",
       "      <td>0.590961</td>\n",
       "      <td>0.622905</td>\n",
       "      <td>0.492165</td>\n",
       "      <td>62902028.0</td>\n",
       "      <td>June</td>\n",
       "      <td>0</td>\n",
       "    </tr>\n",
       "    <tr>\n",
       "      <th>26</th>\n",
       "      <td>2000-06-15</td>\n",
       "      <td>0.622905</td>\n",
       "      <td>0.622905</td>\n",
       "      <td>0.590961</td>\n",
       "      <td>0.606933</td>\n",
       "      <td>0.479546</td>\n",
       "      <td>13880625.0</td>\n",
       "      <td>June</td>\n",
       "      <td>0</td>\n",
       "    </tr>\n",
       "    <tr>\n",
       "      <th>27</th>\n",
       "      <td>2000-06-16</td>\n",
       "      <td>0.606933</td>\n",
       "      <td>0.606933</td>\n",
       "      <td>0.590961</td>\n",
       "      <td>0.598947</td>\n",
       "      <td>0.473236</td>\n",
       "      <td>11900670.0</td>\n",
       "      <td>June</td>\n",
       "      <td>0</td>\n",
       "    </tr>\n",
       "    <tr>\n",
       "      <th>28</th>\n",
       "      <td>2000-06-19</td>\n",
       "      <td>0.606933</td>\n",
       "      <td>0.606933</td>\n",
       "      <td>0.582976</td>\n",
       "      <td>0.598947</td>\n",
       "      <td>0.473236</td>\n",
       "      <td>5926954.0</td>\n",
       "      <td>June</td>\n",
       "      <td>1</td>\n",
       "    </tr>\n",
       "    <tr>\n",
       "      <th>29</th>\n",
       "      <td>2000-06-20</td>\n",
       "      <td>0.630891</td>\n",
       "      <td>0.630891</td>\n",
       "      <td>0.614919</td>\n",
       "      <td>0.630891</td>\n",
       "      <td>0.498475</td>\n",
       "      <td>10721527.0</td>\n",
       "      <td>June</td>\n",
       "      <td>0</td>\n",
       "    </tr>\n",
       "  </tbody>\n",
       "</table>\n",
       "</div>"
      ],
      "text/plain": [
       "          Date      Open      High       Low     Close  Adj Close      Volume  \\\n",
       "0   2000-05-10  0.726723  0.726723  0.702765  0.710751   0.561573  17957749.0   \n",
       "1   2000-05-11  0.694779  0.694779  0.662835  0.670821   0.530024  23421861.0   \n",
       "2   2000-05-12  0.718737  0.718737  0.678807  0.686793   0.542644  27451246.0   \n",
       "3   2000-05-15  0.678807  0.678807  0.662835  0.670821   0.530024   5299547.0   \n",
       "4   2000-05-16  0.678807  0.678807  0.662835  0.670821   0.530024   6817297.0   \n",
       "5   2000-05-17  0.678807  0.678807  0.646863  0.654849   0.517404  14765721.0   \n",
       "6   2000-05-18  0.638877  0.638877  0.590961  0.614919   0.485855  32139164.0   \n",
       "8   2000-05-22  0.598947  0.598947  0.574990  0.598947   0.473236  18474658.0   \n",
       "9   2000-05-23  0.598947  0.598947  0.574990  0.598947   0.473236  18474658.0   \n",
       "12  2000-05-26  0.630891  0.630891  0.614919  0.622905   0.492165   4835866.0   \n",
       "17  2000-06-02  0.678807  0.678807  0.622905  0.622905   0.492165  27882433.0   \n",
       "19  2000-06-06  0.670821  0.670821  0.646863  0.646863   0.511095  10197470.0   \n",
       "22  2000-06-09  0.686793  0.686793  0.670821  0.678807   0.536334   7104982.0   \n",
       "23  2000-06-12  0.670821  0.670821  0.654849  0.662835   0.523714   5250593.0   \n",
       "24  2000-06-13  0.630891  0.630891  0.590961  0.614919   0.485855  21419544.0   \n",
       "25  2000-06-14  0.630891  0.630891  0.590961  0.622905   0.492165  62902028.0   \n",
       "26  2000-06-15  0.622905  0.622905  0.590961  0.606933   0.479546  13880625.0   \n",
       "27  2000-06-16  0.606933  0.606933  0.590961  0.598947   0.473236  11900670.0   \n",
       "28  2000-06-19  0.606933  0.606933  0.582976  0.598947   0.473236   5926954.0   \n",
       "29  2000-06-20  0.630891  0.630891  0.614919  0.630891   0.498475  10721527.0   \n",
       "\n",
       "   month  etiket  \n",
       "0    May       0  \n",
       "1    May       0  \n",
       "2    May       0  \n",
       "3    May       0  \n",
       "4    May       0  \n",
       "5    May       0  \n",
       "6    May       0  \n",
       "8    May       0  \n",
       "9    May       0  \n",
       "12   May       0  \n",
       "17  June       0  \n",
       "19  June       0  \n",
       "22  June       0  \n",
       "23  June       2  \n",
       "24  June       0  \n",
       "25  June       0  \n",
       "26  June       0  \n",
       "27  June       0  \n",
       "28  June       1  \n",
       "29  June       0  "
      ]
     },
     "execution_count": 123,
     "metadata": {},
     "output_type": "execute_result"
    }
   ],
   "source": [
    "data.head(20)"
   ]
  },
  {
   "cell_type": "markdown",
   "id": "1fadb9af-cc2a-4302-ad7b-91b9c52113c7",
   "metadata": {},
   "source": [
    "Daha sonra verisetinde ön işleme işlemleri yapılmaya başlanır. Date sütunundaki tarih özelliğimiz gün-ay-yıl şeklinde olduğu için görselleştirme işlemlerinde kullanılacak hale getirilmesi gerekmektedir. Burada month özellik eklenir sütun olarak. Date sütunundaki ay değişkenini alıp buraya month_name olarak aktarılır. Veriseti yazdırma işlemi yapılır."
   ]
  },
  {
   "cell_type": "code",
   "execution_count": null,
   "id": "7611a348-ca5f-4bd9-a6eb-11b6c5f9e072",
   "metadata": {},
   "outputs": [
    {
     "data": {
      "text/html": [
       "<div>\n",
       "<style scoped>\n",
       "    .dataframe tbody tr th:only-of-type {\n",
       "        vertical-align: middle;\n",
       "    }\n",
       "\n",
       "    .dataframe tbody tr th {\n",
       "        vertical-align: top;\n",
       "    }\n",
       "\n",
       "    .dataframe thead th {\n",
       "        text-align: right;\n",
       "    }\n",
       "</style>\n",
       "<table border=\"1\" class=\"dataframe\">\n",
       "  <thead>\n",
       "    <tr style=\"text-align: right;\">\n",
       "      <th></th>\n",
       "      <th>Date</th>\n",
       "      <th>Open</th>\n",
       "      <th>High</th>\n",
       "      <th>Low</th>\n",
       "      <th>Close</th>\n",
       "      <th>Adj Close</th>\n",
       "      <th>Volume</th>\n",
       "      <th>month</th>\n",
       "    </tr>\n",
       "  </thead>\n",
       "  <tbody>\n",
       "    <tr>\n",
       "      <th>0</th>\n",
       "      <td>2000-05-10</td>\n",
       "      <td>0.726723</td>\n",
       "      <td>0.726723</td>\n",
       "      <td>0.702765</td>\n",
       "      <td>0.710751</td>\n",
       "      <td>0.561573</td>\n",
       "      <td>17957749.0</td>\n",
       "      <td>May</td>\n",
       "    </tr>\n",
       "    <tr>\n",
       "      <th>1</th>\n",
       "      <td>2000-05-11</td>\n",
       "      <td>0.694779</td>\n",
       "      <td>0.694779</td>\n",
       "      <td>0.662835</td>\n",
       "      <td>0.670821</td>\n",
       "      <td>0.530024</td>\n",
       "      <td>23421861.0</td>\n",
       "      <td>May</td>\n",
       "    </tr>\n",
       "    <tr>\n",
       "      <th>2</th>\n",
       "      <td>2000-05-12</td>\n",
       "      <td>0.718737</td>\n",
       "      <td>0.718737</td>\n",
       "      <td>0.678807</td>\n",
       "      <td>0.686793</td>\n",
       "      <td>0.542644</td>\n",
       "      <td>27451246.0</td>\n",
       "      <td>May</td>\n",
       "    </tr>\n",
       "    <tr>\n",
       "      <th>3</th>\n",
       "      <td>2000-05-15</td>\n",
       "      <td>0.678807</td>\n",
       "      <td>0.678807</td>\n",
       "      <td>0.662835</td>\n",
       "      <td>0.670821</td>\n",
       "      <td>0.530024</td>\n",
       "      <td>5299547.0</td>\n",
       "      <td>May</td>\n",
       "    </tr>\n",
       "    <tr>\n",
       "      <th>4</th>\n",
       "      <td>2000-05-16</td>\n",
       "      <td>0.678807</td>\n",
       "      <td>0.678807</td>\n",
       "      <td>0.662835</td>\n",
       "      <td>0.670821</td>\n",
       "      <td>0.530024</td>\n",
       "      <td>6817297.0</td>\n",
       "      <td>May</td>\n",
       "    </tr>\n",
       "  </tbody>\n",
       "</table>\n",
       "</div>"
      ],
      "text/plain": [
       "         Date      Open      High       Low     Close  Adj Close      Volume  \\\n",
       "0  2000-05-10  0.726723  0.726723  0.702765  0.710751   0.561573  17957749.0   \n",
       "1  2000-05-11  0.694779  0.694779  0.662835  0.670821   0.530024  23421861.0   \n",
       "2  2000-05-12  0.718737  0.718737  0.678807  0.686793   0.542644  27451246.0   \n",
       "3  2000-05-15  0.678807  0.678807  0.662835  0.670821   0.530024   5299547.0   \n",
       "4  2000-05-16  0.678807  0.678807  0.662835  0.670821   0.530024   6817297.0   \n",
       "\n",
       "  month  \n",
       "0   May  \n",
       "1   May  \n",
       "2   May  \n",
       "3   May  \n",
       "4   May  "
      ]
     },
     "execution_count": 13,
     "metadata": {},
     "output_type": "execute_result"
    }
   ],
   "source": [
    "data['month'] = pd.DatetimeIndex(data['Date']).month_name()\n",
    "data.head()"
   ]
  },
  {
   "cell_type": "markdown",
   "id": "d25489f8-4940-43d6-98e2-a6a8c0fc1041",
   "metadata": {},
   "source": [
    "VERİ GÖRSELLEŞTİRME"
   ]
  },
  {
   "cell_type": "markdown",
   "id": "bfd6864b-265b-4793-bcd2-2600298dff30",
   "metadata": {},
   "source": [
    "plotly kütüphanesi kullanılarak veri görselleştirme işlemi yapılmaktadır. Yukarda oluşturulan month özelliği ile Close özelliğinin birbiri ile ilişkisi gösterilmiştir."
   ]
  },
  {
   "cell_type": "code",
   "execution_count": 130,
   "id": "cae73f03-537a-4ec9-a0df-b2a5d3e73b57",
   "metadata": {},
   "outputs": [
    {
     "data": {
      "image/png": "[encoded data removed]",
      "text/plain": [
       "<Figure size 1152x432 with 1 Axes>"
      ]
     },
     "metadata": {},
     "output_type": "display_data"
    }
   ],
   "source": [
    "plt.figure(figsize=(16,6))\n",
    "\n",
    "plt.plot(data.Date,data[\"Adj Close\"]) #biz belirlemediğimiz sürece rengi otomatik kendisi verir. \n",
    "\n",
    "plt.show(10)"
   ]
  },
  {
   "cell_type": "markdown",
   "id": "cd41d5e2-42ce-4c0e-b352-3f80b1e43b32",
   "metadata": {},
   "source": [
    "Seaborn kütüphanesi kullanılarak aylara göre Close özelliğinin değişimi gösterilmiştir."
   ]
  },
  {
   "cell_type": "code",
   "execution_count": 131,
   "id": "3de05b43-acbe-4c5d-82e5-a377012d2c05",
   "metadata": {},
   "outputs": [
    {
     "data": {
      "text/plain": [
       "Text(0, 0.5, 'price')"
      ]
     },
     "execution_count": 131,
     "metadata": {},
     "output_type": "execute_result"
    },
    {
     "data": {
      "image/png": "[encoded data removed]",
      "text/plain": [
       "<Figure size 1152x648 with 1 Axes>"
      ]
     },
     "metadata": {},
     "output_type": "display_data"
    }
   ],
   "source": [
    "plt.figure(figsize=(16, 9))\n",
    "sns.lineplot(y=data['Close'], x=data.month)\n",
    "plt.xlabel('time')\n",
    "plt.ylabel('price')"
   ]
  },
  {
   "cell_type": "markdown",
   "id": "46febe42-4adf-4316-8718-7847a84381e3",
   "metadata": {},
   "source": [
    "Heatmap haritasi için görselleştirme yapılmıştır. Heatmap haritası veriyi büyük resimde görmemizi sağlamaktadır. Açık kısımlar ilişkinin daha çok olduğunu belirtir."
   ]
  },
  {
   "cell_type": "code",
   "execution_count": null,
   "id": "786e11dd-ed57-4329-a44e-f0a8123162c2",
   "metadata": {},
   "outputs": [
    {
     "data": {
      "text/plain": [
       "<AxesSubplot:>"
      ]
     },
     "execution_count": 16,
     "metadata": {},
     "output_type": "execute_result"
    },
    {
     "data": {
      "image/png": "[encoded data removed]",
      "text/plain": [
       "<Figure size 648x648 with 2 Axes>"
      ]
     },
     "metadata": {},
     "output_type": "display_data"
    }
   ],
   "source": [
    "f,ax = plt.subplots(figsize=(9, 9))\n",
    "sns.heatmap(data.corr(), annot=True, linewidths=.5, fmt= '.1f',ax=ax)"
   ]
  },
  {
   "cell_type": "markdown",
   "id": "50d9275f-5914-4a26-8869-14cf79b754ec",
   "metadata": {},
   "source": [
    "Plotly kütüphanesi kullanılarak sütun grafikleri oluşturulmuştur. İlk grafikte close değişkeni ile işlem yapılmıştır. İkinci grafikte Open değişkeni ile işlem yapılmıştır."
   ]
  },
  {
   "cell_type": "code",
   "execution_count": null,
   "id": "5398bff1-ec63-429a-8bcf-bd2e1a40ea3c",
   "metadata": {},
   "outputs": [
    {
     "data": {
      "text/plain": [
       "<AxesSubplot:>"
      ]
     },
     "execution_count": 17,
     "metadata": {},
     "output_type": "execute_result"
    },
    {
     "data": {
      "image/png": "[encoded data removed]",
      "text/plain": [
       "<Figure size 864x576 with 2 Axes>"
      ]
     },
     "metadata": {},
     "output_type": "display_data"
    }
   ],
   "source": [
    "fig, axarr = plt.subplots(2, 1, figsize=(12, 8))\n",
    "\n",
    "data['Close'].value_counts().head(20).plot.bar(\n",
    "    ax=axarr[0]\n",
    ")\n",
    "\n",
    "data['Open'].value_counts().head(20).plot.bar(\n",
    "    ax=axarr[1]\n",
    ")"
   ]
  },
  {
   "cell_type": "markdown",
   "id": "30ab002a-50a1-49a8-b9ab-a64f0de77ba6",
   "metadata": {},
   "source": [
    "Daha sonra boxplot grafiği için month ve Close değişkenleri kullanılmıştır."
   ]
  },
  {
   "cell_type": "code",
   "execution_count": 133,
   "id": "6b5fd61a-5ca0-4c7d-851c-95003b7fccb1",
   "metadata": {},
   "outputs": [
    {
     "data": {
      "text/plain": [
       "<AxesSubplot:xlabel='month', ylabel='Close'>"
      ]
     },
     "execution_count": 133,
     "metadata": {},
     "output_type": "execute_result"
    },
    {
     "data": {
      "image/png": "[encoded data removed]",
      "text/plain": [
       "<Figure size 432x288 with 1 Axes>"
      ]
     },
     "metadata": {},
     "output_type": "display_data"
    }
   ],
   "source": [
    "sns.boxplot(x='month', y='Close', data=data)"
   ]
  },
  {
   "cell_type": "markdown",
   "id": "c14b3192-b880-4fbe-a191-b6a2c56d46ab",
   "metadata": {},
   "source": [
    "VERİ ETİKETLEME (LABELİNG) VE ÖZELLİK SEÇİMİ"
   ]
  },
  {
   "cell_type": "markdown",
   "id": "f2fb1d10-be48-40b5-a4a0-05b8eca8794f",
   "metadata": {},
   "source": [
    "Etiketleme işlemine geçmek için verisetini df değişkenine kopyalama işlemi yapılır. create_labell fonksiyonu oluşturuldu. Oluşturulan fonksiyonda yeni bir özellik oluşturulur. Değişkende değerler için AL SAT TUT olarak işaretlenir.  Etiket değişkenine eğer AL işaretlenirse 2, Sat ise 1 ve tut diye işaretlenirse 0 diye kaydedilir."
   ]
  },
  {
   "cell_type": "code",
   "execution_count": null,
   "id": "448e3247-165c-4cb5-9766-f7c4be965024",
   "metadata": {},
   "outputs": [],
   "source": [
    "df=data"
   ]
  },
  {
   "cell_type": "code",
   "execution_count": null,
   "id": "72365322-4e91-48f2-8ce7-98b44ce47a73",
   "metadata": {},
   "outputs": [],
   "source": [
    "df=pd.DataFrame(df)"
   ]
  },
  {
   "cell_type": "code",
   "execution_count": 58,
   "id": "8b1bee87-f3d3-4f44-a663-415606f6fea7",
   "metadata": {},
   "outputs": [],
   "source": [
    "def create_labell(df,col_name):\n",
    "    window_size = 11\n",
    "    row_counter = 0\n",
    "    total_rows = len(df)\n",
    "    labels= np.zeros(total_rows)\n",
    "    labels=np.array(labels,dtype=int)\n",
    "    while row_counter < total_rows:\n",
    "            if row_counter > window_size :\n",
    "                window_begin = row_counter - window_size\n",
    "                window_end = window_begin + window_size - 1\n",
    "                window_middle = (window_begin + window_end) / 2\n",
    "                min_ = 100\n",
    "                min_index = -1\n",
    "                max_ = 0\n",
    "                max_index = -1\n",
    "                for i in range(window_begin, window_end + 1):\n",
    "                    price = df.iloc[i][col_name]\n",
    "                    if price < min_:\n",
    "                        min_ = price\n",
    "                        min_index = i\n",
    "                    if price > max_:\n",
    "                        max_ = price\n",
    "                        max_index = i\n",
    "\n",
    "                if max_index == window_middle:\n",
    "                    labels[row_counter] = 1\n",
    "                elif min_index == window_middle:\n",
    "                    labels[row_counter] = 2\n",
    "                else:\n",
    "                    labels[row_counter] = 0\n",
    "            else:\n",
    "                labels[row_counter] = 0\n",
    "            row_counter = row_counter + 1\n",
    "    return labels"
   ]
  },
  {
   "cell_type": "code",
   "execution_count": 59,
   "id": "3428bb10-ee49-487c-8624-72f9c59369ea",
   "metadata": {},
   "outputs": [],
   "source": [
    "label = create_labell(df,\"Adj Close\")\n"
   ]
  },
  {
   "cell_type": "code",
   "execution_count": 60,
   "id": "04eb177b-719f-48a8-aa1a-00cb89e94316",
   "metadata": {},
   "outputs": [
    {
     "data": {
      "text/html": [
       "<div>\n",
       "<style scoped>\n",
       "    .dataframe tbody tr th:only-of-type {\n",
       "        vertical-align: middle;\n",
       "    }\n",
       "\n",
       "    .dataframe tbody tr th {\n",
       "        vertical-align: top;\n",
       "    }\n",
       "\n",
       "    .dataframe thead th {\n",
       "        text-align: right;\n",
       "    }\n",
       "</style>\n",
       "<table border=\"1\" class=\"dataframe\">\n",
       "  <thead>\n",
       "    <tr style=\"text-align: right;\">\n",
       "      <th></th>\n",
       "      <th>Date</th>\n",
       "      <th>Open</th>\n",
       "      <th>High</th>\n",
       "      <th>Low</th>\n",
       "      <th>Close</th>\n",
       "      <th>Adj Close</th>\n",
       "      <th>Volume</th>\n",
       "      <th>month</th>\n",
       "      <th>etiket</th>\n",
       "    </tr>\n",
       "  </thead>\n",
       "  <tbody>\n",
       "    <tr>\n",
       "      <th>0</th>\n",
       "      <td>2000-05-10</td>\n",
       "      <td>0.726723</td>\n",
       "      <td>0.726723</td>\n",
       "      <td>0.702765</td>\n",
       "      <td>0.710751</td>\n",
       "      <td>0.561573</td>\n",
       "      <td>17957749.0</td>\n",
       "      <td>May</td>\n",
       "      <td>0</td>\n",
       "    </tr>\n",
       "    <tr>\n",
       "      <th>1</th>\n",
       "      <td>2000-05-11</td>\n",
       "      <td>0.694779</td>\n",
       "      <td>0.694779</td>\n",
       "      <td>0.662835</td>\n",
       "      <td>0.670821</td>\n",
       "      <td>0.530024</td>\n",
       "      <td>23421861.0</td>\n",
       "      <td>May</td>\n",
       "      <td>0</td>\n",
       "    </tr>\n",
       "    <tr>\n",
       "      <th>2</th>\n",
       "      <td>2000-05-12</td>\n",
       "      <td>0.718737</td>\n",
       "      <td>0.718737</td>\n",
       "      <td>0.678807</td>\n",
       "      <td>0.686793</td>\n",
       "      <td>0.542644</td>\n",
       "      <td>27451246.0</td>\n",
       "      <td>May</td>\n",
       "      <td>0</td>\n",
       "    </tr>\n",
       "    <tr>\n",
       "      <th>3</th>\n",
       "      <td>2000-05-15</td>\n",
       "      <td>0.678807</td>\n",
       "      <td>0.678807</td>\n",
       "      <td>0.662835</td>\n",
       "      <td>0.670821</td>\n",
       "      <td>0.530024</td>\n",
       "      <td>5299547.0</td>\n",
       "      <td>May</td>\n",
       "      <td>0</td>\n",
       "    </tr>\n",
       "    <tr>\n",
       "      <th>4</th>\n",
       "      <td>2000-05-16</td>\n",
       "      <td>0.678807</td>\n",
       "      <td>0.678807</td>\n",
       "      <td>0.662835</td>\n",
       "      <td>0.670821</td>\n",
       "      <td>0.530024</td>\n",
       "      <td>6817297.0</td>\n",
       "      <td>May</td>\n",
       "      <td>0</td>\n",
       "    </tr>\n",
       "    <tr>\n",
       "      <th>5</th>\n",
       "      <td>2000-05-17</td>\n",
       "      <td>0.678807</td>\n",
       "      <td>0.678807</td>\n",
       "      <td>0.646863</td>\n",
       "      <td>0.654849</td>\n",
       "      <td>0.517404</td>\n",
       "      <td>14765721.0</td>\n",
       "      <td>May</td>\n",
       "      <td>0</td>\n",
       "    </tr>\n",
       "    <tr>\n",
       "      <th>6</th>\n",
       "      <td>2000-05-18</td>\n",
       "      <td>0.638877</td>\n",
       "      <td>0.638877</td>\n",
       "      <td>0.590961</td>\n",
       "      <td>0.614919</td>\n",
       "      <td>0.485855</td>\n",
       "      <td>32139164.0</td>\n",
       "      <td>May</td>\n",
       "      <td>0</td>\n",
       "    </tr>\n",
       "    <tr>\n",
       "      <th>8</th>\n",
       "      <td>2000-05-22</td>\n",
       "      <td>0.598947</td>\n",
       "      <td>0.598947</td>\n",
       "      <td>0.574990</td>\n",
       "      <td>0.598947</td>\n",
       "      <td>0.473236</td>\n",
       "      <td>18474658.0</td>\n",
       "      <td>May</td>\n",
       "      <td>0</td>\n",
       "    </tr>\n",
       "    <tr>\n",
       "      <th>9</th>\n",
       "      <td>2000-05-23</td>\n",
       "      <td>0.598947</td>\n",
       "      <td>0.598947</td>\n",
       "      <td>0.574990</td>\n",
       "      <td>0.598947</td>\n",
       "      <td>0.473236</td>\n",
       "      <td>18474658.0</td>\n",
       "      <td>May</td>\n",
       "      <td>0</td>\n",
       "    </tr>\n",
       "    <tr>\n",
       "      <th>12</th>\n",
       "      <td>2000-05-26</td>\n",
       "      <td>0.630891</td>\n",
       "      <td>0.630891</td>\n",
       "      <td>0.614919</td>\n",
       "      <td>0.622905</td>\n",
       "      <td>0.492165</td>\n",
       "      <td>4835866.0</td>\n",
       "      <td>May</td>\n",
       "      <td>0</td>\n",
       "    </tr>\n",
       "    <tr>\n",
       "      <th>17</th>\n",
       "      <td>2000-06-02</td>\n",
       "      <td>0.678807</td>\n",
       "      <td>0.678807</td>\n",
       "      <td>0.622905</td>\n",
       "      <td>0.622905</td>\n",
       "      <td>0.492165</td>\n",
       "      <td>27882433.0</td>\n",
       "      <td>June</td>\n",
       "      <td>0</td>\n",
       "    </tr>\n",
       "    <tr>\n",
       "      <th>19</th>\n",
       "      <td>2000-06-06</td>\n",
       "      <td>0.670821</td>\n",
       "      <td>0.670821</td>\n",
       "      <td>0.646863</td>\n",
       "      <td>0.646863</td>\n",
       "      <td>0.511095</td>\n",
       "      <td>10197470.0</td>\n",
       "      <td>June</td>\n",
       "      <td>0</td>\n",
       "    </tr>\n",
       "    <tr>\n",
       "      <th>22</th>\n",
       "      <td>2000-06-09</td>\n",
       "      <td>0.686793</td>\n",
       "      <td>0.686793</td>\n",
       "      <td>0.670821</td>\n",
       "      <td>0.678807</td>\n",
       "      <td>0.536334</td>\n",
       "      <td>7104982.0</td>\n",
       "      <td>June</td>\n",
       "      <td>0</td>\n",
       "    </tr>\n",
       "    <tr>\n",
       "      <th>23</th>\n",
       "      <td>2000-06-12</td>\n",
       "      <td>0.670821</td>\n",
       "      <td>0.670821</td>\n",
       "      <td>0.654849</td>\n",
       "      <td>0.662835</td>\n",
       "      <td>0.523714</td>\n",
       "      <td>5250593.0</td>\n",
       "      <td>June</td>\n",
       "      <td>2</td>\n",
       "    </tr>\n",
       "    <tr>\n",
       "      <th>24</th>\n",
       "      <td>2000-06-13</td>\n",
       "      <td>0.630891</td>\n",
       "      <td>0.630891</td>\n",
       "      <td>0.590961</td>\n",
       "      <td>0.614919</td>\n",
       "      <td>0.485855</td>\n",
       "      <td>21419544.0</td>\n",
       "      <td>June</td>\n",
       "      <td>0</td>\n",
       "    </tr>\n",
       "    <tr>\n",
       "      <th>25</th>\n",
       "      <td>2000-06-14</td>\n",
       "      <td>0.630891</td>\n",
       "      <td>0.630891</td>\n",
       "      <td>0.590961</td>\n",
       "      <td>0.622905</td>\n",
       "      <td>0.492165</td>\n",
       "      <td>62902028.0</td>\n",
       "      <td>June</td>\n",
       "      <td>0</td>\n",
       "    </tr>\n",
       "    <tr>\n",
       "      <th>26</th>\n",
       "      <td>2000-06-15</td>\n",
       "      <td>0.622905</td>\n",
       "      <td>0.622905</td>\n",
       "      <td>0.590961</td>\n",
       "      <td>0.606933</td>\n",
       "      <td>0.479546</td>\n",
       "      <td>13880625.0</td>\n",
       "      <td>June</td>\n",
       "      <td>0</td>\n",
       "    </tr>\n",
       "    <tr>\n",
       "      <th>27</th>\n",
       "      <td>2000-06-16</td>\n",
       "      <td>0.606933</td>\n",
       "      <td>0.606933</td>\n",
       "      <td>0.590961</td>\n",
       "      <td>0.598947</td>\n",
       "      <td>0.473236</td>\n",
       "      <td>11900670.0</td>\n",
       "      <td>June</td>\n",
       "      <td>0</td>\n",
       "    </tr>\n",
       "    <tr>\n",
       "      <th>28</th>\n",
       "      <td>2000-06-19</td>\n",
       "      <td>0.606933</td>\n",
       "      <td>0.606933</td>\n",
       "      <td>0.582976</td>\n",
       "      <td>0.598947</td>\n",
       "      <td>0.473236</td>\n",
       "      <td>5926954.0</td>\n",
       "      <td>June</td>\n",
       "      <td>1</td>\n",
       "    </tr>\n",
       "    <tr>\n",
       "      <th>29</th>\n",
       "      <td>2000-06-20</td>\n",
       "      <td>0.630891</td>\n",
       "      <td>0.630891</td>\n",
       "      <td>0.614919</td>\n",
       "      <td>0.630891</td>\n",
       "      <td>0.498475</td>\n",
       "      <td>10721527.0</td>\n",
       "      <td>June</td>\n",
       "      <td>0</td>\n",
       "    </tr>\n",
       "  </tbody>\n",
       "</table>\n",
       "</div>"
      ],
      "text/plain": [
       "          Date      Open      High       Low     Close  Adj Close      Volume  \\\n",
       "0   2000-05-10  0.726723  0.726723  0.702765  0.710751   0.561573  17957749.0   \n",
       "1   2000-05-11  0.694779  0.694779  0.662835  0.670821   0.530024  23421861.0   \n",
       "2   2000-05-12  0.718737  0.718737  0.678807  0.686793   0.542644  27451246.0   \n",
       "3   2000-05-15  0.678807  0.678807  0.662835  0.670821   0.530024   5299547.0   \n",
       "4   2000-05-16  0.678807  0.678807  0.662835  0.670821   0.530024   6817297.0   \n",
       "5   2000-05-17  0.678807  0.678807  0.646863  0.654849   0.517404  14765721.0   \n",
       "6   2000-05-18  0.638877  0.638877  0.590961  0.614919   0.485855  32139164.0   \n",
       "8   2000-05-22  0.598947  0.598947  0.574990  0.598947   0.473236  18474658.0   \n",
       "9   2000-05-23  0.598947  0.598947  0.574990  0.598947   0.473236  18474658.0   \n",
       "12  2000-05-26  0.630891  0.630891  0.614919  0.622905   0.492165   4835866.0   \n",
       "17  2000-06-02  0.678807  0.678807  0.622905  0.622905   0.492165  27882433.0   \n",
       "19  2000-06-06  0.670821  0.670821  0.646863  0.646863   0.511095  10197470.0   \n",
       "22  2000-06-09  0.686793  0.686793  0.670821  0.678807   0.536334   7104982.0   \n",
       "23  2000-06-12  0.670821  0.670821  0.654849  0.662835   0.523714   5250593.0   \n",
       "24  2000-06-13  0.630891  0.630891  0.590961  0.614919   0.485855  21419544.0   \n",
       "25  2000-06-14  0.630891  0.630891  0.590961  0.622905   0.492165  62902028.0   \n",
       "26  2000-06-15  0.622905  0.622905  0.590961  0.606933   0.479546  13880625.0   \n",
       "27  2000-06-16  0.606933  0.606933  0.590961  0.598947   0.473236  11900670.0   \n",
       "28  2000-06-19  0.606933  0.606933  0.582976  0.598947   0.473236   5926954.0   \n",
       "29  2000-06-20  0.630891  0.630891  0.614919  0.630891   0.498475  10721527.0   \n",
       "\n",
       "   month  etiket  \n",
       "0    May       0  \n",
       "1    May       0  \n",
       "2    May       0  \n",
       "3    May       0  \n",
       "4    May       0  \n",
       "5    May       0  \n",
       "6    May       0  \n",
       "8    May       0  \n",
       "9    May       0  \n",
       "12   May       0  \n",
       "17  June       0  \n",
       "19  June       0  \n",
       "22  June       0  \n",
       "23  June       2  \n",
       "24  June       0  \n",
       "25  June       0  \n",
       "26  June       0  \n",
       "27  June       0  \n",
       "28  June       1  \n",
       "29  June       0  "
      ]
     },
     "execution_count": 60,
     "metadata": {},
     "output_type": "execute_result"
    }
   ],
   "source": [
    "df[\"etiket\"]=np.array(label)\n",
    "df.head(20)"
   ]
  },
  {
   "cell_type": "code",
   "execution_count": 83,
   "id": "09ac322c-2c37-4876-ae9b-098a1787101d",
   "metadata": {},
   "outputs": [],
   "source": [
    "for i in range(1,len(df)):\n",
    "    print(label[i])"
   ]
  },
  {
   "cell_type": "markdown",
   "id": "e4b55166-69ca-47bf-8944-378c765901e2",
   "metadata": {},
   "source": [
    "Burada verisetini eğitim seti ve test seti olarak ikiye ayırmaktadır. Eğitim veri seti yüzde 80 ve test veri seti yüzde 20 olarak ayarlanmıştır."
   ]
  },
  {
   "cell_type": "code",
   "execution_count": 61,
   "id": "32de3b8e-2e65-45fb-9907-1c569d8d3548",
   "metadata": {},
   "outputs": [],
   "source": [
    "X = df.drop([\"etiket\"],axis=1)\n",
    "y=df[\"etiket\"]"
   ]
  },
  {
   "cell_type": "code",
   "execution_count": 62,
   "id": "f7dcfc70-8fc0-4cf0-9779-1d8379e0ccdf",
   "metadata": {},
   "outputs": [],
   "source": [
    "X_train, X_test, y_train, y_test = train_test_split(X, y, test_size = 0.2, random_state = 42)"
   ]
  },
  {
   "cell_type": "code",
   "execution_count": 63,
   "id": "ff0deeaa-8462-4f63-a936-62500c24017f",
   "metadata": {},
   "outputs": [
    {
     "data": {
      "text/plain": [
       "4526"
      ]
     },
     "execution_count": 63,
     "metadata": {},
     "output_type": "execute_result"
    }
   ],
   "source": [
    "len(y_train)"
   ]
  },
  {
   "cell_type": "code",
   "execution_count": 64,
   "id": "e694902e-da87-4c96-a383-077a8beddcc3",
   "metadata": {},
   "outputs": [
    {
     "data": {
      "text/plain": [
       "1132"
      ]
     },
     "execution_count": 64,
     "metadata": {},
     "output_type": "execute_result"
    }
   ],
   "source": [
    "len(y_test)"
   ]
  },
  {
   "cell_type": "markdown",
   "id": "efac6699-9bec-4c95-9b08-fab34789c946",
   "metadata": {},
   "source": [
    "MODEL OLŞUTURMA"
   ]
  },
  {
   "cell_type": "markdown",
   "id": "719bc9d5-7e27-482c-8b55-a9c582a3523f",
   "metadata": {},
   "source": [
    "Modelleri kurmak için bazı model kütüphane ve sınıfları import etme işlemleri yapılır. Bir kaç model oluşturuldu ve score dereceleri karşılaştırılır. Enyüksek tahmin alan Model seçilir."
   ]
  },
  {
   "cell_type": "code",
   "execution_count": 65,
   "id": "85245e79-eb3e-4054-ac40-9a9fcbb81dd8",
   "metadata": {},
   "outputs": [],
   "source": [
    "from sklearn.ensemble import ExtraTreesClassifier, AdaBoostClassifier, GradientBoostingClassifier, RandomForestClassifier\n",
    "from sklearn.preprocessing import StandardScaler\n",
    "from sklearn.pipeline import Pipeline\n",
    "from sklearn.tree import DecisionTreeClassifier\n",
    "from sklearn.dummy import DummyClassifier\n",
    "from sklearn.neighbors import KNeighborsClassifier\n",
    "from sklearn.linear_model import LogisticRegression\n",
    "from sklearn.naive_bayes import GaussianNB\n",
    "from sklearn.svm import SVC\n",
    "from sklearn.metrics import confusion_matrix, classification_report, accuracy_score\n",
    "\n",
    "from xgboost import XGBClassifier"
   ]
  },
  {
   "cell_type": "code",
   "execution_count": 92,
   "id": "0fdcd47d-b0e3-4a37-bdc4-6513a3313c94",
   "metadata": {},
   "outputs": [],
   "source": [
    "from sklearn.ensemble import RandomForestClassifier\n",
    "from sklearn.tree import DecisionTreeClassifier\n",
    "from sklearn.neighbors import KNeighborsClassifier"
   ]
  },
  {
   "cell_type": "code",
   "execution_count": 94,
   "id": "5089838b-8b1c-4303-b5b7-625097d245e2",
   "metadata": {},
   "outputs": [],
   "source": [
    "x_train = X_train.drop([\"month\"],axis=1)\n",
    "x_train = x_train.drop([\"Date\"],axis=1)\n",
    "x_test = X_test.drop([\"month\"],axis=1)\n",
    "x_test = x_test.drop([\"Date\"],axis=1)"
   ]
  },
  {
   "cell_type": "code",
   "execution_count": 95,
   "id": "4e3251be-04cc-47fd-af0b-dc86bd23f34b",
   "metadata": {},
   "outputs": [],
   "source": [
    "pipeline_random = Pipeline([('scale', StandardScaler()), ('clf', RandomForestClassifier())])\n",
    "\n",
    "#DecisionTree\n",
    "pipeline_decision = Pipeline([('scale', StandardScaler()), ('clf', DecisionTreeClassifier())])\n",
    "\n",
    "#K Nearest Neighbors\n",
    "pipeline_knn = Pipeline([('scale', StandardScaler()), ('clf', KNeighborsClassifier())])"
   ]
  },
  {
   "cell_type": "code",
   "execution_count": 96,
   "id": "4c9615d7-9408-4699-9725-80b586b18108",
   "metadata": {},
   "outputs": [],
   "source": [
    "pipelines = [pipeline_random, pipeline_decision, pipeline_knn]\n",
    "\n",
    "models = ['RandomForest', 'DecisionTree', 'KNN']\n",
    "model_pipelines = dict(zip(models, pipelines))"
   ]
  },
  {
   "cell_type": "code",
   "execution_count": 97,
   "id": "76abb036-0c8b-4c1d-bfd2-148fd4e48d5c",
   "metadata": {},
   "outputs": [
    {
     "name": "stdout",
     "output_type": "stream",
     "text": [
      "Pipeline(steps=[('scale', StandardScaler()), ('clf', RandomForestClassifier())])\n",
      "Pipeline(steps=[('scale', StandardScaler()), ('clf', DecisionTreeClassifier())])\n",
      "Pipeline(steps=[('scale', StandardScaler()), ('clf', KNeighborsClassifier())])\n"
     ]
    }
   ],
   "source": [
    "for name, pipe in model_pipelines.items():\n",
    "    print(pipe)\n",
    "    pipe.fit(x_train, y_train)\n",
    "\n"
   ]
  },
  {
   "cell_type": "code",
   "execution_count": 140,
   "id": "2b94375b-74c8-4b6e-8c22-4f667bc05332",
   "metadata": {},
   "outputs": [
    {
     "name": "stdout",
     "output_type": "stream",
     "text": [
      "\n",
      "RandomForest (Avg - F1 Score):\n",
      "0.31069182389937106\n",
      "\n",
      "DecisionTree (Avg - F1 Score):\n",
      "0.35663964787879543\n",
      "\n",
      "KNN (Avg - F1 Score):\n",
      "0.31186334430340074\n"
     ]
    }
   ],
   "source": [
    "models = {}\n",
    "\n",
    "for name, pipe in model_pipelines.items():\n",
    "    print('\\n'+ name + ' (Avg - F1 Score):')\n",
    " \n",
    "    report = classification_report(y_test, pipe.predict(x_test), target_names=['Sell','Buy', 'Hold'], output_dict=True)\n",
    "    f1 = report['macro avg']['f1-score']\n",
    "    \n",
    "    models[name] = f1\n",
    "\n",
    "    print(f1)"
   ]
  },
  {
   "cell_type": "markdown",
   "id": "6e15e97d-ce03-487a-b865-88cde630fdca",
   "metadata": {},
   "source": [
    "Random Forest, Decision Tree ve KNN algoritmaları denendi. En yüksek tahmin Decision Tree algoritmasıyla yakalandı. Fakat 0.35 derecesi düşük oladuğu için başka algoritmalar da denenmeye devam edeceğiz. XGBClassifier algoritmasından nesne oluşturup veri setimizle fit işlemi yapıyoruz. Fakat bu modelde de isteediğimiz başarı oranı yakalanamadı."
   ]
  },
  {
   "cell_type": "code",
   "execution_count": 113,
   "id": "13f949f5-bc3d-46fa-9c72-8febf5fe693a",
   "metadata": {},
   "outputs": [
    {
     "data": {
      "text/html": [
       "<style>#sk-container-id-2 {color: black;background-color: white;}#sk-container-id-2 pre{padding: 0;}#sk-container-id-2 div.sk-toggleable {background-color: white;}#sk-container-id-2 label.sk-toggleable__label {cursor: pointer;display: block;width: 100%;margin-bottom: 0;padding: 0.3em;box-sizing: border-box;text-align: center;}#sk-container-id-2 label.sk-toggleable__label-arrow:before {content: \"▸\";float: left;margin-right: 0.25em;color: #696969;}#sk-container-id-2 label.sk-toggleable__label-arrow:hover:before {color: black;}#sk-container-id-2 div.sk-estimator:hover label.sk-toggleable__label-arrow:before {color: black;}#sk-container-id-2 div.sk-toggleable__content {max-height: 0;max-width: 0;overflow: hidden;text-align: left;background-color: #f0f8ff;}#sk-container-id-2 div.sk-toggleable__content pre {margin: 0.2em;color: black;border-radius: 0.25em;background-color: #f0f8ff;}#sk-container-id-2 input.sk-toggleable__control:checked~div.sk-toggleable__content {max-height: 200px;max-width: 100%;overflow: auto;}#sk-container-id-2 input.sk-toggleable__control:checked~label.sk-toggleable__label-arrow:before {content: \"▾\";}#sk-container-id-2 div.sk-estimator input.sk-toggleable__control:checked~label.sk-toggleable__label {background-color: #d4ebff;}#sk-container-id-2 div.sk-label input.sk-toggleable__control:checked~label.sk-toggleable__label {background-color: #d4ebff;}#sk-container-id-2 input.sk-hidden--visually {border: 0;clip: rect(1px 1px 1px 1px);clip: rect(1px, 1px, 1px, 1px);height: 1px;margin: -1px;overflow: hidden;padding: 0;position: absolute;width: 1px;}#sk-container-id-2 div.sk-estimator {font-family: monospace;background-color: #f0f8ff;border: 1px dotted black;border-radius: 0.25em;box-sizing: border-box;margin-bottom: 0.5em;}#sk-container-id-2 div.sk-estimator:hover {background-color: #d4ebff;}#sk-container-id-2 div.sk-parallel-item::after {content: \"\";width: 100%;border-bottom: 1px solid gray;flex-grow: 1;}#sk-container-id-2 div.sk-label:hover label.sk-toggleable__label {background-color: #d4ebff;}#sk-container-id-2 div.sk-serial::before {content: \"\";position: absolute;border-left: 1px solid gray;box-sizing: border-box;top: 0;bottom: 0;left: 50%;z-index: 0;}#sk-container-id-2 div.sk-serial {display: flex;flex-direction: column;align-items: center;background-color: white;padding-right: 0.2em;padding-left: 0.2em;position: relative;}#sk-container-id-2 div.sk-item {position: relative;z-index: 1;}#sk-container-id-2 div.sk-parallel {display: flex;align-items: stretch;justify-content: center;background-color: white;position: relative;}#sk-container-id-2 div.sk-item::before, #sk-container-id-2 div.sk-parallel-item::before {content: \"\";position: absolute;border-left: 1px solid gray;box-sizing: border-box;top: 0;bottom: 0;left: 50%;z-index: -1;}#sk-container-id-2 div.sk-parallel-item {display: flex;flex-direction: column;z-index: 1;position: relative;background-color: white;}#sk-container-id-2 div.sk-parallel-item:first-child::after {align-self: flex-end;width: 50%;}#sk-container-id-2 div.sk-parallel-item:last-child::after {align-self: flex-start;width: 50%;}#sk-container-id-2 div.sk-parallel-item:only-child::after {width: 0;}#sk-container-id-2 div.sk-dashed-wrapped {border: 1px dashed gray;margin: 0 0.4em 0.5em 0.4em;box-sizing: border-box;padding-bottom: 0.4em;background-color: white;}#sk-container-id-2 div.sk-label label {font-family: monospace;font-weight: bold;display: inline-block;line-height: 1.2em;}#sk-container-id-2 div.sk-label-container {text-align: center;}#sk-container-id-2 div.sk-container {/* jupyter's `normalize.less` sets `[hidden] { display: none; }` but bootstrap.min.css set `[hidden] { display: none !important; }` so we also need the `!important` here to be able to override the default hidden behavior on the sphinx rendered scikit-learn.org. See: https://github.com/scikit-learn/scikit-learn/issues/21755 */display: inline-block !important;position: relative;}#sk-container-id-2 div.sk-text-repr-fallback {display: none;}</style><div id=\"sk-container-id-2\" class=\"sk-top-container\"><div class=\"sk-text-repr-fallback\"><pre>XGBClassifier(base_score=0.5, booster=&#x27;gbtree&#x27;, callbacks=None,\n",
       "              colsample_bylevel=1, colsample_bynode=1, colsample_bytree=1,\n",
       "              early_stopping_rounds=None, enable_categorical=False,\n",
       "              eval_metric=None, gamma=0, gpu_id=-1, grow_policy=&#x27;depthwise&#x27;,\n",
       "              importance_type=None, interaction_constraints=&#x27;&#x27;,\n",
       "              learning_rate=0.300000012, max_bin=256, max_cat_to_onehot=4,\n",
       "              max_delta_step=0, max_depth=6, max_leaves=0, min_child_weight=1,\n",
       "              missing=nan, monotone_constraints=&#x27;()&#x27;, n_estimators=100,\n",
       "              n_jobs=0, num_parallel_tree=1, objective=&#x27;multi:softprob&#x27;,\n",
       "              predictor=&#x27;auto&#x27;, random_state=0, reg_alpha=0, ...)</pre><b>In a Jupyter environment, please rerun this cell to show the HTML representation or trust the notebook. <br />On GitHub, the HTML representation is unable to render, please try loading this page with nbviewer.org.</b></div><div class=\"sk-container\" hidden><div class=\"sk-item\"><div class=\"sk-estimator sk-toggleable\"><input class=\"sk-toggleable__control sk-hidden--visually\" id=\"sk-estimator-id-2\" type=\"checkbox\" checked><label for=\"sk-estimator-id-2\" class=\"sk-toggleable__label sk-toggleable__label-arrow\">XGBClassifier</label><div class=\"sk-toggleable__content\"><pre>XGBClassifier(base_score=0.5, booster=&#x27;gbtree&#x27;, callbacks=None,\n",
       "              colsample_bylevel=1, colsample_bynode=1, colsample_bytree=1,\n",
       "              early_stopping_rounds=None, enable_categorical=False,\n",
       "              eval_metric=None, gamma=0, gpu_id=-1, grow_policy=&#x27;depthwise&#x27;,\n",
       "              importance_type=None, interaction_constraints=&#x27;&#x27;,\n",
       "              learning_rate=0.300000012, max_bin=256, max_cat_to_onehot=4,\n",
       "              max_delta_step=0, max_depth=6, max_leaves=0, min_child_weight=1,\n",
       "              missing=nan, monotone_constraints=&#x27;()&#x27;, n_estimators=100,\n",
       "              n_jobs=0, num_parallel_tree=1, objective=&#x27;multi:softprob&#x27;,\n",
       "              predictor=&#x27;auto&#x27;, random_state=0, reg_alpha=0, ...)</pre></div></div></div></div></div>"
      ],
      "text/plain": [
       "XGBClassifier(base_score=0.5, booster='gbtree', callbacks=None,\n",
       "              colsample_bylevel=1, colsample_bynode=1, colsample_bytree=1,\n",
       "              early_stopping_rounds=None, enable_categorical=False,\n",
       "              eval_metric=None, gamma=0, gpu_id=-1, grow_policy='depthwise',\n",
       "              importance_type=None, interaction_constraints='',\n",
       "              learning_rate=0.300000012, max_bin=256, max_cat_to_onehot=4,\n",
       "              max_delta_step=0, max_depth=6, max_leaves=0, min_child_weight=1,\n",
       "              missing=nan, monotone_constraints='()', n_estimators=100,\n",
       "              n_jobs=0, num_parallel_tree=1, objective='multi:softprob',\n",
       "              predictor='auto', random_state=0, reg_alpha=0, ...)"
      ]
     },
     "execution_count": 113,
     "metadata": {},
     "output_type": "execute_result"
    }
   ],
   "source": [
    "xgboost = XGBClassifier()\n",
    "xgboost.fit(x_new, y_train)"
   ]
  },
  {
   "cell_type": "code",
   "execution_count": 125,
   "id": "6d24cf5f-4131-4c50-b10c-81eb8989dc99",
   "metadata": {},
   "outputs": [
    {
     "name": "stdout",
     "output_type": "stream",
     "text": [
      "XGBClassifier SCORE\n",
      "0.3099968464206875\n"
     ]
    }
   ],
   "source": [
    "report = classification_report(y_test, xgboost.predict(x_test), target_names=['Sell','Buy', 'Hold'], output_dict=True)\n",
    "f1 = report['macro avg']['f1-score']\n",
    "print(\"XGBClassifier SCORE\")\n",
    "print(f1)"
   ]
  },
  {
   "cell_type": "code",
   "execution_count": null,
   "id": "8a86e6a6-ad36-421d-9734-de7854d034ca",
   "metadata": {},
   "outputs": [],
   "source": [
    "import tensorflow as tf"
   ]
  },
  {
   "cell_type": "markdown",
   "id": "d68e2b1a-acd2-4325-927d-b682dc6c4d7b",
   "metadata": {},
   "source": [
    "LSTM modeli kullanılıp veri setimiz eğitilmişitir. Model X_train setine bakarak y_train özelliğini öğrenmektedir. Daha sonra X_test setini modele parametre olarak verdiğimizde y_test özelliğini görmeden tahminlerde bulunmaktadır. Modeli eğittikten sonra predict fonksiyonuna parametre olarak X_train verilir ve ne kadar doğru tahmin yaptığını gösterir."
   ]
  },
  {
   "cell_type": "code",
   "execution_count": 99,
   "id": "a2cc7644-4dbc-447f-88bc-dcb4605d8bbc",
   "metadata": {},
   "outputs": [],
   "source": [
    "def windowed_dataset(series, window_size, batch_size, shuffle):\n",
    "\n",
    "  \n",
    "    series = tf.expand_dims(series, axis=-1)\n",
    "\n",
    "    dataset = tf.data.Dataset.from_tensor_slices(series)\n",
    "    dataset = dataset.window(window_size + 1, shift=1, drop_remainder=True)\n",
    "    dataset = dataset.flat_map(lambda w: w.batch(window_size + 1))\n",
    "\n",
    "    if shuffle:\n",
    "        dataset = dataset.shuffle(1000)\n",
    "    dataset = dataset.map(lambda w: (w[:-1], w[-1]))\n",
    "\n",
    "    return dataset.batch(batch_size).prefetch(1)"
   ]
  },
  {
   "cell_type": "code",
   "execution_count": 139,
   "id": "5e04d412-85a8-46d3-8951-31943ce18f84",
   "metadata": {},
   "outputs": [],
   "source": [
    "WINDOW_SIZE=20\n",
    "BATCH_SIZE=32"
   ]
  },
  {
   "cell_type": "code",
   "execution_count": 101,
   "id": "36a5593e-9cfe-413e-bb75-922d24b0c871",
   "metadata": {},
   "outputs": [],
   "source": [
    "train_data = windowed_dataset(y_train, WINDOW_SIZE, BATCH_SIZE, True)\n",
    "test_data  = windowed_dataset(y_test, WINDOW_SIZE, BATCH_SIZE, False)"
   ]
  },
  {
   "cell_type": "code",
   "execution_count": 102,
   "id": "653f1ff3-802e-4302-950a-98e77ac1d07a",
   "metadata": {},
   "outputs": [],
   "source": [
    "from tensorflow.keras.models import Sequential\n",
    "from tensorflow.keras.layers import Dense, LSTM, Conv1D, Lambda\n",
    "from tensorflow.keras.losses import Huber\n",
    "from tensorflow.keras.optimizers import Adam\n",
    "from tensorflow.keras.callbacks import EarlyStopping, ModelCheckpoint\n",
    "\n",
    "model = tf.keras.models.Sequential([\n",
    "            \n",
    "    tf.keras.layers.Conv1D(filters=32, kernel_size=5,\n",
    "                           padding=\"causal\",\n",
    "                           activation=\"relu\",\n",
    "                           input_shape=[WINDOW_SIZE, 1]),\n",
    "\n",
    "    # LSTM \n",
    "    tf.keras.layers.LSTM(16, activation='tanh'),\n",
    "\n",
    "    # Dense Layers\n",
    "    tf.keras.layers.Dense(16, activation=\"relu\"),\n",
    "    tf.keras.layers.Dense(1)\n",
    "])"
   ]
  },
  {
   "cell_type": "code",
   "execution_count": 103,
   "id": "ffc3b568-3c8f-42b2-a847-6d141377fe80",
   "metadata": {},
   "outputs": [],
   "source": [
    "loss = tf.keras.losses.Huber()\n",
    "optm = tf.keras.optimizers.Adam(learning_rate=0.0005)\n",
    "\n",
    "model.compile(loss=loss, optimizer=optm, metrics=['mse'])"
   ]
  },
  {
   "cell_type": "code",
   "execution_count": 137,
   "id": "45e64b7b-b1c4-4fb1-aa3b-803b8086260f",
   "metadata": {},
   "outputs": [],
   "source": [
    "\n",
    "earlystopping = EarlyStopping(monitor='val_loss', patience=10)\n",
    "\n",
    "\n",
    "checkpoint = tf.keras.callbacks.ModelCheckpoint(\"my_checkpoint.h5\", \n",
    "                                               save_best_only=True)"
   ]
  },
  {
   "cell_type": "code",
   "execution_count": 105,
   "id": "29000215-163d-4ee1-8bdb-cf4622a6a832",
   "metadata": {},
   "outputs": [
    {
     "name": "stdout",
     "output_type": "stream",
     "text": [
      "Epoch 1/100\n",
      "141/141 [==============================] - 3s 10ms/step - loss: 0.1142 - mse: 0.2756 - val_loss: 0.1129 - val_mse: 0.2723\n",
      "Epoch 2/100\n",
      "141/141 [==============================] - 1s 7ms/step - loss: 0.1132 - mse: 0.2718 - val_loss: 0.1130 - val_mse: 0.2711\n",
      "Epoch 3/100\n",
      "141/141 [==============================] - 1s 8ms/step - loss: 0.1132 - mse: 0.2715 - val_loss: 0.1130 - val_mse: 0.2737\n",
      "Epoch 4/100\n",
      "141/141 [==============================] - 1s 8ms/step - loss: 0.1130 - mse: 0.2710 - val_loss: 0.1129 - val_mse: 0.2719\n",
      "Epoch 5/100\n",
      "141/141 [==============================] - 1s 8ms/step - loss: 0.1130 - mse: 0.2712 - val_loss: 0.1130 - val_mse: 0.2712\n",
      "Epoch 6/100\n",
      "141/141 [==============================] - 1s 7ms/step - loss: 0.1130 - mse: 0.2708 - val_loss: 0.1130 - val_mse: 0.2726\n",
      "Epoch 7/100\n",
      "141/141 [==============================] - 3s 19ms/step - loss: 0.1129 - mse: 0.2709 - val_loss: 0.1130 - val_mse: 0.2719\n",
      "Epoch 8/100\n",
      "141/141 [==============================] - 1s 7ms/step - loss: 0.1129 - mse: 0.2705 - val_loss: 0.1130 - val_mse: 0.2719\n",
      "Epoch 9/100\n",
      "141/141 [==============================] - 2s 12ms/step - loss: 0.1129 - mse: 0.2710 - val_loss: 0.1131 - val_mse: 0.2706\n",
      "Epoch 10/100\n",
      "141/141 [==============================] - 1s 7ms/step - loss: 0.1129 - mse: 0.2707 - val_loss: 0.1131 - val_mse: 0.2708\n",
      "Epoch 11/100\n",
      "141/141 [==============================] - 1s 7ms/step - loss: 0.1129 - mse: 0.2707 - val_loss: 0.1130 - val_mse: 0.2706\n"
     ]
    }
   ],
   "source": [
    "history = model.fit(train_data, \n",
    "                    validation_data=(test_data), \n",
    "                    epochs=100, \n",
    "                    callbacks=[checkpoint, earlystopping])"
   ]
  },
  {
   "cell_type": "code",
   "execution_count": null,
   "id": "633504a8-7374-4df8-ad49-09656d8615fa",
   "metadata": {},
   "outputs": [],
   "source": [
    "def fit_model(x_train, y_train ):\n",
    "    tf.keras.layers.Conv1D(filters=32, kernel_size=5,\n",
    "                           padding=\"causal\",\n",
    "                           activation=\"relu\",\n",
    "                           input_shape=[WINDOW_SIZE, 1]),\n",
    "\n",
    "    # LSTM Layer\n",
    "    tf.keras.layers.LSTM(16, activation='tanh'),\n",
    "\n",
    "    # Dense Layers\n",
    "    tf.keras.layers.Dense(16, activation=\"relu\"),\n",
    "    tf.keras.layers.Dense(1)\n",
    "    \n",
    "    return(model)\n",
    "# Fit the first model.\n",
    "model1 = fit_model(x_train, y_train)"
   ]
  },
  {
   "cell_type": "code",
   "execution_count": 135,
   "id": "6310fec2-e9ca-4c4f-9314-5bf95caee255",
   "metadata": {},
   "outputs": [],
   "source": []
  },
  {
   "cell_type": "code",
   "execution_count": null,
   "id": "22dbd7b1-3468-420b-8d75-3abe6f863c99",
   "metadata": {},
   "outputs": [],
   "source": []
  },
  {
   "cell_type": "code",
   "execution_count": null,
   "id": "a08bca1f-0748-4d51-a20f-0fff762a1f67",
   "metadata": {},
   "outputs": [],
   "source": []
  }
 ],
 "metadata": {
  "kernelspec": {
   "display_name": "Python 3 (ipykernel)",
   "language": "python",
   "name": "python3"
  },
  "language_info": {
   "codemirror_mode": {
    "name": "ipython",
    "version": 3
   },
   "file_extension": ".py",
   "mimetype": "text/x-python",
   "name": "python",
   "nbconvert_exporter": "python",
   "pygments_lexer": "ipython3",
   "version": "3.9.12"
  }
 },
 "nbformat": 4,
 "nbformat_minor": 5
}
